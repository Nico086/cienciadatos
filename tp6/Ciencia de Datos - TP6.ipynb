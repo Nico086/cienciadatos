{
 "cells": [
  {
   "cell_type": "markdown",
   "metadata": {},
   "source": [
    "# Ciencia de Datos - TP5\n",
    "\n",
    "## Integrantes\n",
    "\n",
    "- Ambroa, Nicolás - 229/13 - ambroanicolas@hotmail.com\n",
    "- Gaustein, Diego - 586/09 - diego@gaustein.com.ar"
   ]
  },
  {
   "cell_type": "code",
   "execution_count": 2,
   "metadata": {},
   "outputs": [],
   "source": [
    "from collections import Counter\n",
    "from functools import wraps\n",
    "from itertools import chain\n",
    "from string import punctuation\n",
    "import os\n",
    "import pickle\n",
    "from pprint import pprint\n",
    "from lxml import html\n",
    "from nltk import sent_tokenize, word_tokenize, pos_tag, WordNetLemmatizer\n",
    "from nltk.corpus import wordnet, stopwords\n",
    "\n",
    "lemmatizer = WordNetLemmatizer()\n",
    "stopwords = frozenset(stopwords.words('english'))\n",
    "\n",
    "def load_or_call(func):\n",
    "    \"\"\" Decorador auxiliar para cachear resultados en un .pickle. \"\"\"\n",
    "    @wraps(func)\n",
    "    def wrapper(*args, **kwargs):\n",
    "        filename = '{}-{}-{}.pickle'.format(func.__name__, str(args), str(kwargs))\n",
    "        if os.path.exists(filename):\n",
    "            with open(filename, 'rb') as f:\n",
    "                return pickle.load(f)\n",
    "        else:\n",
    "            res = func(*args, **kwargs)\n",
    "            with open(filename, 'wb') as f:\n",
    "                pickle.dump(res, f)\n",
    "            return res\n",
    "\n",
    "    return wrapper"
   ]
  },
  {
   "cell_type": "markdown",
   "metadata": {},
   "source": [
    "### 1.1. Levantar el corpus AP, separando cada noticia como un elemento distinto en un diccionario `(<DOCNO>: <TEXT>)`."
   ]
  },
  {
   "cell_type": "code",
   "execution_count": 3,
   "metadata": {},
   "outputs": [
    {
     "name": "stdout",
     "output_type": "stream",
     "text": [
      "Cargados 2250 articulos\n"
     ]
    }
   ],
   "source": [
    "parsed = html.parse('ap/ap.txt')\n",
    "documents = {}\n",
    "for document in parsed.iter('doc'):\n",
    "    docno, article = document.getchildren()\n",
    "    documents[docno.text.strip()] = article.text.strip()\n",
    "\n",
    "print('Cargados', len(documents), 'articulos')"
   ]
  },
  {
   "cell_type": "markdown",
   "metadata": {},
   "source": [
    "### 1.2. Calcular el tamaño del vocabulario."
   ]
  },
  {
   "cell_type": "code",
   "execution_count": 4,
   "metadata": {},
   "outputs": [
    {
     "name": "stdout",
     "output_type": "stream",
     "text": [
      "548169 palabras, 41090 palabras distintas.\n"
     ]
    }
   ],
   "source": [
    "def get_wordnet_pos(treebank_tag):\n",
    "    if treebank_tag.startswith('J'):\n",
    "        return wordnet.ADJ\n",
    "    elif treebank_tag.startswith('V'):\n",
    "        return wordnet.VERB\n",
    "    elif treebank_tag.startswith('N'):\n",
    "        return wordnet.NOUN\n",
    "    elif treebank_tag.startswith('R'):\n",
    "        return wordnet.ADV\n",
    "    elif treebank_tag.startswith('S'):\n",
    "        return wordnet.ADJ_SAT\n",
    "    else:\n",
    "        return wordnet.NOUN  # El default es NOUN\n",
    "\n",
    "def get_words_for_document(document):\n",
    "    for sentence in sent_tokenize(document):\n",
    "        tagged_sentence = pos_tag(sentence.split())\n",
    "        for word, pos in tagged_sentence:\n",
    "            # Lematizar\n",
    "            word = lemmatizer.lemmatize(word, pos=get_wordnet_pos(pos))\n",
    "            # Strip punctuation\n",
    "            word = word.strip(punctuation)\n",
    "            # Lowercase\n",
    "            word = word.lower()\n",
    "            \n",
    "            # Skip stopwords and punctuation\n",
    "            if len(word) > 1 and word not in stopwords:\n",
    "                yield word\n",
    "\n",
    "@load_or_call\n",
    "def get_word_count():\n",
    "    c = Counter()\n",
    "    for document in documents.values():\n",
    "        c.update(get_words_for_document(document))\n",
    "    return c\n",
    "        \n",
    "c = get_word_count()\n",
    "cantidad_de_palabras = sum(c.values())\n",
    "print(cantidad_de_palabras, 'palabras,', len(c), 'palabras distintas.')"
   ]
  },
  {
   "cell_type": "markdown",
   "metadata": {},
   "source": [
    "### 1.3. Para las 500 palabras con más apariciones, calcular el par más asociado según la medida presentada."
   ]
  },
  {
   "cell_type": "code",
   "execution_count": 12,
   "metadata": {},
   "outputs": [
    {
     "name": "stdout",
     "output_type": "stream",
     "text": [
      "['say', 'said', 'would', 'year', 'new', 'percent', 'one', 'people', 'also', 'million', 'two', 'u.s', 'president', 'government', 'last', 'make', 'take', 'official', 'go', 'state', 'report', 'time', 'first', 'police', 'could', 'include', 'get', 'soviet', 'united', 'tell', 'day', 'bush', 'use', 'billion', 'call', 'three', 'week', 'work', 'since', 'give', 'states', 'today', 'come', 'national', 'company', 'plan', 'american', 'house', 'force', 'group', 'court', 'thursday', 'month', 'federal', 'high', 'party', 'city', 'may', 'tuesday', 'market', 'many', 'want', 'news', 'wednesday', 'think', 'country', 'member', 'price', 'monday', 'know', 'friday', \"it's\", 'leader', 'find', 'home', 'end', 'begin', 'york', 'department', 'leave', 'union', 'show', 'issue', 'military', 'hold', 'south', 'good', 'help', 'former', 'support', 'trade', 'office', 'charge', 'late', 'see', 'part', 'program', 'back', 'stock', 'west', 'increase', 'political', 'order', 'kill', 'case', 'spokesman', 'committee', 'like', 'way', 'service', 'world', 'right', \"don't\", 'expect', 'business', 'campaign', 'vote', 'pay', 'four', 'ask', '10', 'still', 'war', 'law', 'early', 'rise', 'close', 'defense', 'several', 'air', 'congress', 'next', 'lead', 'general', 'foreign', 'try', 'move', 'rate', 'public', 'much', 'economic', 'talk', 'five', 'another', 'among', 'bank', 'bill', 'security', 'offer', 'money', 'large', 'white', 'dukakis', 'become', 'allow', 'even', 'later', 'return', 'system', 'minister', 'administration', 'fire', 'change', 'meeting', 'release', 'chief', 'years', 'continue', 'east', 'drug', 'area', 'agreement', 'agency', 'family', 'school', 'board', 'believe', 'accord', 'control', 'attorney', 'share', 'number', 'north', 'run', 'ago', 'major', 'meet', 'look', 'need', 'oil', 'mrs', 'receive', 'least', 'head', 'washington', 'long', 'john', 'dollar', 'statement', 'death', 'point', 'set', 'international', 'sale', 'win', 'cent', 'night', 'remain', 'interest', 'decision', 'seek', 'democratic', 'black', 'open', 'reagan', 'low', 'keep', 'put', 'sell', 'big', 'problem', 'judge', 'director', 'attack', 'worker', 'record', 'man', 'mile', 'cause', 'bring', 'whether', 'senate', 'life', 'claim', 'without', '20', 'chairman', 'tax', 'sunday', 'name', 'power', 'however', 'election', 'authority', 'march', 'woman', 'face', 'provide', 'announce', 'well', 'child', 'condition', '30', 'earlier', 'place', '1987', 'student', 'policy', 'center', 'job', 'six', 'base', 'future', 'inc', 'arrest', 'must', 'send', 'decline', 'cut', 'cost', 'start', 'agree', 'officer', 'past', 'follow', 'army', 'die', 'total', 'sign', 'question', 'demand', 'gorbachev', 'second', 'rule', 'hospital', 'lose', 'april', 'might', 'budget', 'trial', 'economy', 'great', 'consider', '15', 'far', 'vice', 'central', 'secretary', 'exchange', 'around', 'corp', 'live', 'republican', 'result', 'aid', 'carry', 'industry', 'hour', 'never', 'prison', 'university', '1986', 'saturday', 'men', 'small', 'less', 'contract', 'district', 'nation', 'co', 'raise', 'deal', 'turn', '1988', 'conference', 'street', 'estimate', 'effort', 'test', 'appear', 'press', 'recent', 'average', 'top', 'troop', 'ms', 'june', 'newspaper', 'action', 'near', 'german', 'little', 'plant', 'trading', 'strike', 'reach', 'buy', 'presidential', 'executive', 'others', 'speak', 'health', 'interview', 'food', 'information', 'involve', 'free', 'study', 'thing', 'county', \"we're\", 'refuse', '1989', 'away', 'sen', 'side', 'labor', 'break', 'accuse', 'file', 'fell', \"i'm\", 'source', 'capital', 'communist', 'fight', 'require', 'water', 'concern', 'car', 'peace', 'schedule', 'gain', 'visit', 'strong', 'july', 'germany', '12', 'iraq', \"that's\", 'measure', 'whose', 'investigation', 'television', 'financial', 'human', 'community', 'fall', 'opposition', \"nation's\", 'california', 'america', 'comment', 'building', 'act', 'write', 'plane', 'proposal', 'eastern', 'george', 'stop', 'wife', 'spend', 'fund', 'nearly', 'serve', 'drop', 'reporter', 'fail', 'line', 'form', 'outside', 'robert', 'organization', 'private', 'council', 'europe', 'james', 'already', 'local', 'san', 'southern', 'sentence', 'rep', 'jackson', \"didn't\", 'employee', 'although', 'damage', 'across', '100', 'value', 'japan', 'association', 'justice', 'every', 'enough', 'decide', 'note', 'index', 'level', 'along', 'texas', 'seven', 'morning', 'candidate', '25', 'israel', 'term', 'play', 'radio', 'flight', 'prime', 'half', 'medical', 'appeal', 'drive', 'eight', 'stand', 'position', 'step', 'analyst', 'young', 'reduce', 'mean', 'town', 'add', 'possible', 'protest', '11', 'grow', 'hope', 'operation', 'special', 'americans', '50', 'michael', 'arm', 'approve', 'third', 'best', 'africa', 'propose', 'london', 'old', 'japanese', 'shoot', 'soldier', 'bond', 'western']\n"
     ]
    }
   ],
   "source": [
    "\"\"\"\n",
    "Para cada palabra, aproximamos p(palabra) con su frecuencia relativa según el counter.\n",
    "Tomamos las 500 con más apariciones y recorremos el texto. Cada vez que encontremos una de estas miramos en una\n",
    "ventana (n=8) cuando aparece alguna de las otras, y le sumamos uno.\n",
    "Esta es nuestra estimación de p(palabra1, palabra2). Finalmente calculamos la información mutua e imprimimos los\n",
    "pares más asociados.\n",
    "\"\"\"\n",
    "\n",
    "def mirar_ventana_y_buscar(palabras, palabras_a_buscar, longitud_de_ventana, asociaciones):\n",
    "    pass\n",
    "\n",
    "# Tomamos las 500 palabras con más apariciones.\n",
    "palabras_con_mas_apariciones = c.most_common(500)\n",
    "\n",
    "solo_palabras = [tupla[0] for tupla in palabras_con_mas_apariciones]\n",
    "\n",
    "# Recorremos el texto.\n",
    "# Ésta es nuestra estimación de p(palabra1, palabra2). Finalmente calculamos inf mutua y imprimos el par + asoc.\n",
    "contador_asociaciones_de_palabras = Counter()\n",
    "for document in documents.values():\n",
    "    for indice, palabra in enumerate(document.split()):\n",
    "        #Cada vez que encontremos una de ellas, miramos en una ventana de n=8.\n",
    "        if palabra in solo_palabras:\n",
    "            # Cuando otra palabra de las 500 aparece en la ventana, le sumamos uno a la asociación.\n",
    "            "
   ]
  }
 ],
 "metadata": {
  "kernelspec": {
   "display_name": "Python 3",
   "language": "python",
   "name": "python3"
  },
  "language_info": {
   "codemirror_mode": {
    "name": "ipython",
    "version": 3
   },
   "file_extension": ".py",
   "mimetype": "text/x-python",
   "name": "python",
   "nbconvert_exporter": "python",
   "pygments_lexer": "ipython3",
   "version": "3.5.3"
  }
 },
 "nbformat": 4,
 "nbformat_minor": 2
}
