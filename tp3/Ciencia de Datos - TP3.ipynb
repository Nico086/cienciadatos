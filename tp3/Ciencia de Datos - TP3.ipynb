{
 "cells": [
  {
   "cell_type": "code",
   "execution_count": 2,
   "metadata": {
    "collapsed": true
   },
   "outputs": [],
   "source": [
    "import scipy.io as sio\n",
    "from scipy.signal import welch\n",
    "from scipy import stats\n",
    "import numpy as np\n",
    "from glob import glob\n",
    "from sklearn.metrics import mutual_info_score, roc_curve, auc\n",
    "from sklearn.linear_model import LogisticRegressionCV\n",
    "import pylab\n",
    "import math\n",
    "from functools import partial\n",
    "from itertools import combinations\n",
    "from os import path\n",
    "import pickle\n",
    "import matplotlib.pyplot as plt\n",
    "from collections import OrderedDict\n",
    "from sklearn.model_selection import train_test_split\n",
    "from sklearn.svm import SVC\n",
    "from sklearn.pipeline import make_pipeline\n",
    "from sklearn.feature_selection import SelectPercentile\n",
    "from sklearn.preprocessing import StandardScaler\n",
    "\n",
    "%matplotlib inline\n",
    "pylab.rcParams['figure.figsize'] = (18, 8)\n",
    "\n",
    "def loadSubject(filename):\n",
    "    return sio.loadmat(filename)['data']\n",
    "\n",
    "def allSubjects():\n",
    "    return sorted(glob('dataset/*'))\n",
    "\n",
    "sujetoP01 = loadSubject('dataset/P01.mat')\n",
    "cant_electrodos = len(sujetoP01[0])\n",
    "cant_muestras_por_electrodo = len(sujetoP01[0, 0])\n",
    "long_epoch = 0.8  # segundos\n",
    "nfft = 2047\n",
    "longitud_de_poderes = math.ceil(nfft / 2)\n",
    "bandas = [0, 4, 8, 13, 30, 45] \n",
    "nombre_bandas = ['Delta', 'Theta', 'Alpha', 'Beta', 'Gamma']\n",
    "\n",
    "class Bandas:\n",
    "    Delta = 0, 4\n",
    "    Theta = 4, 8\n",
    "    Alpha = 8, 13\n",
    "    Beta = 13, 30\n",
    "    Gamma = 30, 45\n",
    "\n",
    "# Redefino welch para que siempre tenga el mismo fs y nfft\n",
    "welch_eeg = partial(welch, fs=90, nfft=nfft, nperseg=cant_muestras_por_electrodo)\n",
    "frecuencias, _ = welch_eeg(sujetoP01[0, 0], fs=90)"
   ]
  },
  {
   "cell_type": "code",
   "execution_count": 3,
   "metadata": {
    "collapsed": true
   },
   "outputs": [],
   "source": [
    "def getBanda(frecuencia):\n",
    "    \"\"\" [0, 4, 8, 13, 30, 45]  # Delta, Theta, Alpha, Beta, Gamma \"\"\"\n",
    "    res = 0\n",
    "    for indice, lim_izq in enumerate(bandas):\n",
    "        if frecuencia >= lim_izq:\n",
    "            res = indice\n",
    "        else:\n",
    "            break\n",
    "    return res\n",
    "\n",
    "assert getBanda(1) == 0\n",
    "assert getBanda(6) == 1\n",
    "assert getBanda(10) == 2\n",
    "assert getBanda(15) == 3\n",
    "assert getBanda(33) == 4\n",
    "assert getBanda(50) == 5\n",
    "\n",
    "def get_name(filename):\n",
    "    return path.splitext(path.split(filename)[1])[0]"
   ]
  },
  {
   "cell_type": "code",
   "execution_count": null,
   "metadata": {},
   "outputs": [],
   "source": [
    "def get_cantidad_de_bines(data, minimo, maximo):\n",
    "    return np.ceil(\n",
    "        (maximo - minimo)\n",
    "        /\n",
    "        (3.5 * np.std(data) * (len(data) ** (-1/3)))\n",
    "    )\n",
    "\n",
    "def get_bins_entropia():\n",
    "    minimo, maximo, max_cantidad_de_bines = 0, 0, 0\n",
    "\n",
    "    for index, filename in enumerate(allSubjects()):\n",
    "        subject_data = loadSubject(filename)  # epoch, electrodo, muestra\n",
    "\n",
    "        for epoch in subject_data:\n",
    "            for electrodo in epoch:\n",
    "                minimo = min(np.min(electrodo), minimo)\n",
    "                maximo = max(np.max(electrodo), maximo)\n",
    "                max_cantidad_de_bines = max(get_cantidad_de_bines(electrodo, minimo, maximo),\n",
    "                                            max_cantidad_de_bines)\n",
    "\n",
    "    return np.linspace(minimo, maximo, max_cantidad_de_bines)\n",
    "\n",
    "if not path.exists('bins_entropia.pickle'):\n",
    "    with open('bins_entropia.pickle', 'wb') as f:\n",
    "        pickle.dump(get_bins_entropia(), f)\n",
    "        \n",
    "with open('bins_entropia.pickle', 'rb') as f:\n",
    "    bins_entropia = pickle.load(f)\n",
    "    print(bins_entropia)"
   ]
  },
  {
   "cell_type": "code",
   "execution_count": 5,
   "metadata": {
    "collapsed": true
   },
   "outputs": [],
   "source": [
    "def calc_MI(x, y):\n",
    "    c_xy = np.histogram2d(x, y, bins_entropia)[0]\n",
    "    mi = mutual_info_score(None, None, contingency=c_xy)\n",
    "    return mi"
   ]
  },
  {
   "cell_type": "markdown",
   "metadata": {},
   "source": [
    "Para cada sujeto, calculamos las potencias por banda, la entropía y la información conjunta, en media y desviación estándar. Ya que esto es costoso lo ejecutamos una vez y lo guardamos en un archivo JSON"
   ]
  },
  {
   "cell_type": "code",
   "execution_count": 8,
   "metadata": {
    "collapsed": true
   },
   "outputs": [],
   "source": [
    "features_per_subject = {}\n",
    "\n",
    "def binnear_potencias_por_banda(poderes_espectrales):\n",
    "    hist = np.zeros(len(bandas) - 1)\n",
    "    \n",
    "    for frecuencia, poder in zip(frecuencias, poderes_espectrales):\n",
    "        hist[getBanda(frecuencia)] += poder\n",
    "        \n",
    "    return hist\n",
    "\n",
    "def get_filename_for_electrodes(electrodos):\n",
    "    return 'features_per_subject_{}.pickle'.format(\"_\".join((str(e) for e in electrodos)))\n",
    "\n",
    "def calcularData(electrodos):\n",
    "    for filename in allSubjects():\n",
    "        print(filename)\n",
    "        subject_data = loadSubject(filename)  # epoch, electrodo, muestra\n",
    "        cant_epochs = len(subject_data)\n",
    "        potencias_por_banda_por_epoch = np.zeros((cant_epochs, len(bandas) - 1))\n",
    "        entropias_por_epoch = np.zeros(cant_epochs)\n",
    "\n",
    "        for index, epoch in enumerate(subject_data):\n",
    "            potencias_por_banda = np.zeros(len(bandas) - 1)\n",
    "            if len(electrodos) == 1:\n",
    "                pares_de_electrodos = [(electrodos[0], electrodos[0])]\n",
    "            else:\n",
    "                pares_de_electrodos = list(combinations(electrodos, 2))\n",
    "            entropia_por_electrodo = 0.0\n",
    "            entropia_inter_electrodo = np.zeros(len(pares_de_electrodos))\n",
    "\n",
    "            for num_electrodo in electrodos:\n",
    "                electrodo = epoch[num_electrodo]\n",
    "                _, poder_espectral = welch_eeg(electrodo)\n",
    "\n",
    "                hist, _ = np.histogram(electrodo, bins_entropia)\n",
    "                entropia_por_electrodo += stats.entropy(hist, base=2)\n",
    "\n",
    "                potencias_por_banda += binnear_potencias_por_banda(poder_espectral)\n",
    "\n",
    "            # Calculamos la información mutua entre todos los pares de electrodos elegidos\n",
    "            for i, (e1, e2) in enumerate(pares_de_electrodos):\n",
    "                entropia_inter_electrodo[i] += calc_MI(epoch[e1], epoch[e2])\n",
    "\n",
    "            potencias_por_banda_por_epoch[index] = potencias_por_banda / len(electrodos)\n",
    "            entropias_por_epoch[index] = entropia_por_electrodo / len(electrodos)\n",
    "\n",
    "        potencias_medias = np.mean(potencias_por_banda_por_epoch, axis=0)\n",
    "        desviaciones_medias = np.std(potencias_por_banda_por_epoch, axis=0)\n",
    "        entropia_inter_electrodo /= cant_epochs\n",
    "        features_per_subject[get_name(filename)] = {\n",
    "            'potencias_medias': potencias_medias,\n",
    "            'potencias_medias_norm': potencias_medias / np.sum(potencias_medias),\n",
    "            'potencias_std': desviaciones_medias,\n",
    "            'potencias_std_norm': desviaciones_medias / np.sum(desviaciones_medias),\n",
    "            'entropia_media': np.mean(entropias_por_epoch),\n",
    "            'entropia_std': np.std(entropias_por_epoch),\n",
    "            'informacion_mutua_media': np.mean(entropia_inter_electrodo),\n",
    "            'informacion_mutua_std': np.std(entropia_inter_electrodo)\n",
    "        }\n",
    "    \n",
    "    with open(get_filename_for_electrodes(electrodos), 'wb') as f:\n",
    "        pickle.dump(features_per_subject, f)\n",
    "        \n",
    "def get_data_for_electrodes(electrodos):\n",
    "    filename = get_filename_for_electrodes(electrodos)\n",
    "    if not path.exists(filename):\n",
    "        calcularData(electrodos)\n",
    "        \n",
    "    with open(filename, 'rb') as f:\n",
    "        return pickle.load(f)"
   ]
  },
  {
   "cell_type": "code",
   "execution_count": 10,
   "metadata": {},
   "outputs": [
    {
     "data": {
      "text/plain": [
       "{'P01': {'entropia_media': 5.5475958177739324,\n",
       "  'entropia_std': 0.51420922764358123,\n",
       "  'informacion_mutua_media': 0.0043348674015325928,\n",
       "  'informacion_mutua_std': 0.0,\n",
       "  'potencias_medias': array([  3.06291217e-09,   9.82951011e-11,   8.19232544e-11,\n",
       "           4.08918272e-11,   4.52659663e-20]),\n",
       "  'potencias_medias_norm': array([  9.32670926e-01,   2.99313130e-02,   2.49460099e-02,\n",
       "           1.24517506e-02,   1.37836961e-11]),\n",
       "  'potencias_std': array([  7.93209543e-09,   1.40781310e-10,   1.32624416e-10,\n",
       "           8.06258224e-11,   9.62649365e-20]),\n",
       "  'potencias_std_norm': array([  9.57274183e-01,   1.69900015e-02,   1.60055979e-02,\n",
       "           9.73021806e-03,   1.16176033e-11])},\n",
       " 'P02': {'entropia_media': 5.6704246597921166,\n",
       "  'entropia_std': 0.35086688323163084,\n",
       "  'informacion_mutua_media': 0.0059387216224041327,\n",
       "  'informacion_mutua_std': 0.0,\n",
       "  'potencias_medias': array([  2.64740984e-09,   1.15325834e-10,   7.48165744e-11,\n",
       "           3.08218225e-11,   3.42901892e-20]),\n",
       "  'potencias_medias_norm': array([  9.22965337e-01,   4.02059952e-02,   2.60832697e-02,\n",
       "           1.07453985e-02,   1.19545737e-11]),\n",
       "  'potencias_std': array([  5.64958274e-09,   2.11569741e-10,   9.41066322e-11,\n",
       "           3.96202065e-11,   1.34775799e-19]),\n",
       "  'potencias_std_norm': array([  9.42401413e-01,   3.52917432e-02,   1.56978360e-02,\n",
       "           6.60900818e-03,   2.24818202e-11])},\n",
       " 'P03': {'entropia_media': 5.9694215363120451,\n",
       "  'entropia_std': 0.33093605706209173,\n",
       "  'informacion_mutua_media': 0.0058275708456137785,\n",
       "  'informacion_mutua_std': 0.0,\n",
       "  'potencias_medias': array([  5.49858698e-09,   5.49706836e-11,   2.42753061e-11,\n",
       "           8.00472015e-12,   5.62085226e-20]),\n",
       "  'potencias_medias_norm': array([  9.84380013e-01,   9.84108143e-03,   4.34586672e-03,\n",
       "           1.43303844e-03,   1.00626845e-11]),\n",
       "  'potencias_std': array([  6.31333882e-09,   4.65787100e-11,   1.69735624e-11,\n",
       "           5.83665283e-12,   8.16973211e-20]),\n",
       "  'potencias_std_norm': array([  9.89128641e-01,   7.29761817e-03,   2.65929601e-03,\n",
       "           9.14444899e-04,   1.27997503e-11])},\n",
       " 'P04': {'entropia_media': 5.5407961282392488,\n",
       "  'entropia_std': 0.48775212276613011,\n",
       "  'informacion_mutua_media': 0.0022315073291698908,\n",
       "  'informacion_mutua_std': 0.0,\n",
       "  'potencias_medias': array([  2.62957238e-09,   5.08218997e-11,   2.27928558e-11,\n",
       "           1.12326838e-11,   2.61366711e-20]),\n",
       "  'potencias_medias_norm': array([  9.68741961e-01,   1.87229327e-02,   8.39695306e-03,\n",
       "           4.13815272e-03,   9.62882413e-12]),\n",
       "  'potencias_std': array([  4.13083893e-09,   4.00901895e-11,   2.17884524e-11,\n",
       "           1.39893433e-11,   4.90472448e-20]),\n",
       "  'potencias_std_norm': array([  9.81964994e-01,   9.53006480e-03,   5.17945576e-03,\n",
       "           3.32548560e-03,   1.16592969e-11])},\n",
       " 'P05': {'entropia_media': 5.8767206070041418,\n",
       "  'entropia_std': 0.3301538246510452,\n",
       "  'informacion_mutua_media': 0.0043155509836322334,\n",
       "  'informacion_mutua_std': 0.0,\n",
       "  'potencias_medias': array([  3.00589805e-09,   1.86699306e-10,   2.09656631e-10,\n",
       "           9.15602266e-11,   4.83306403e-20]),\n",
       "  'potencias_medias_norm': array([  8.60348567e-01,   5.34371018e-02,   6.00079506e-02,\n",
       "           2.62063810e-02,   1.38332027e-11]),\n",
       "  'potencias_std': array([  4.53123492e-09,   1.40639101e-10,   1.69514531e-10,\n",
       "           9.02605595e-11,   9.42203244e-20]),\n",
       "  'potencias_std_norm': array([  9.18807242e-01,   2.85176617e-02,   3.43727884e-02,\n",
       "           1.83023077e-02,   1.91052369e-11])},\n",
       " 'P06': {'entropia_media': 5.5854536073509955,\n",
       "  'entropia_std': 0.41980701566794937,\n",
       "  'informacion_mutua_media': 0.0035899391020608505,\n",
       "  'informacion_mutua_std': 0.0,\n",
       "  'potencias_medias': array([  2.56793218e-09,   6.97611333e-11,   2.09984173e-11,\n",
       "           8.30237705e-12,   2.49641310e-20]),\n",
       "  'potencias_medias_norm': array([  9.62856338e-01,   2.61572132e-02,   7.87343972e-03,\n",
       "           3.11300915e-03,   9.36039977e-12]),\n",
       "  'potencias_std': array([  3.48161528e-09,   5.44087277e-11,   2.28068876e-11,\n",
       "           1.44877596e-11,   4.21264437e-20]),\n",
       "  'potencias_std_norm': array([  9.74336637e-01,   1.52263856e-02,   6.38255074e-03,\n",
       "           4.05442698e-03,   1.17891651e-11])},\n",
       " 'P07': {'entropia_media': 5.7411620455027723,\n",
       "  'entropia_std': 0.40367295526812141,\n",
       "  'informacion_mutua_media': 0.0046220042447734722,\n",
       "  'informacion_mutua_std': 0.0,\n",
       "  'potencias_medias': array([  3.52759079e-09,   1.26586024e-10,   1.23785503e-10,\n",
       "           6.11473432e-11,   4.55164591e-20]),\n",
       "  'potencias_medias_norm': array([  9.18856480e-01,   3.29727555e-02,   3.22432841e-02,\n",
       "           1.59274802e-02,   1.18559935e-11]),\n",
       "  'potencias_std': array([  5.99285755e-09,   2.10225231e-10,   2.49259047e-10,\n",
       "           1.38988344e-10,   1.12083017e-19]),\n",
       "  'potencias_std_norm': array([  9.09203058e-01,   3.18942042e-02,   3.78161980e-02,\n",
       "           2.10865395e-02,   1.70046127e-11])},\n",
       " 'P08': {'entropia_media': 5.1402337398924827,\n",
       "  'entropia_std': 0.43542300022905089,\n",
       "  'informacion_mutua_media': 0.0046927202129259009,\n",
       "  'informacion_mutua_std': 0.0,\n",
       "  'potencias_medias': array([  1.07202044e-09,   3.44228399e-11,   2.54424795e-11,\n",
       "           1.14599716e-11,   1.15018838e-20]),\n",
       "  'potencias_medias_norm': array([  9.37617040e-01,   3.01071136e-02,   2.22526561e-02,\n",
       "           1.00231901e-02,   1.00598476e-11]),\n",
       "  'potencias_std': array([  1.44390754e-09,   3.41346452e-11,   4.16464741e-11,\n",
       "           2.37095352e-11,   1.62292979e-20]),\n",
       "  'potencias_std_norm': array([  9.35537922e-01,   2.21165512e-02,   2.69836224e-02,\n",
       "           1.53619042e-02,   1.05153018e-11])},\n",
       " 'P09': {'entropia_media': 5.6224141887348074,\n",
       "  'entropia_std': 0.3832302254451983,\n",
       "  'informacion_mutua_media': 0.0067088264956346004,\n",
       "  'informacion_mutua_std': 0.0,\n",
       "  'potencias_medias': array([  1.76283183e-09,   1.41948860e-10,   1.73620776e-10,\n",
       "           8.67200084e-11,   3.51540133e-20]),\n",
       "  'potencias_medias_norm': array([  8.14195347e-01,   6.55616146e-02,   8.01898544e-02,\n",
       "           4.00531838e-02,   1.62365085e-11]),\n",
       "  'potencias_std': array([  2.74776955e-09,   1.37004174e-10,   1.73278456e-10,\n",
       "           9.21619069e-11,   4.89847604e-20]),\n",
       "  'potencias_std_norm': array([  8.72248512e-01,   4.34904329e-02,   5.50052952e-02,\n",
       "           2.92557599e-02,   1.55496608e-11])},\n",
       " 'P10': {'entropia_media': 5.3698575445297232,\n",
       "  'entropia_std': 0.41198835185789329,\n",
       "  'informacion_mutua_media': 0.0036807708621788976,\n",
       "  'informacion_mutua_std': 0.0,\n",
       "  'potencias_medias': array([  1.36083041e-09,   4.46416715e-11,   4.79415582e-11,\n",
       "           2.32620061e-11,   2.03086069e-20]),\n",
       "  'potencias_medias_norm': array([  9.21549979e-01,   3.02311964e-02,   3.24658690e-02,\n",
       "           1.57529557e-02,   1.37529233e-11]),\n",
       "  'potencias_std': array([  1.40149578e-09,   8.53751241e-11,   1.40750974e-10,\n",
       "           5.19350790e-11,   2.79734450e-20]),\n",
       "  'potencias_std_norm': array([  8.34443735e-01,   5.08319315e-02,   8.38024417e-02,\n",
       "           3.09218921e-02,   1.66552524e-11])},\n",
       " 'S01': {'entropia_media': 5.1484213271028683,\n",
       "  'entropia_std': 0.35410128384886103,\n",
       "  'informacion_mutua_media': 0.0058243189532354439,\n",
       "  'informacion_mutua_std': 0.0,\n",
       "  'potencias_medias': array([  6.81888009e-10,   9.27820272e-11,   5.43552554e-11,\n",
       "           4.53778149e-11,   2.10384739e-20]),\n",
       "  'potencias_medias_norm': array([  7.79832555e-01,   1.06108986e-01,   6.21626971e-02,\n",
       "           5.18957613e-02,   2.40603833e-11]),\n",
       "  'potencias_std': array([  8.20442619e-10,   6.31260258e-11,   2.68838885e-11,\n",
       "           2.01438445e-11,   1.53074991e-20]),\n",
       "  'potencias_std_norm': array([  8.81631004e-01,   6.78339475e-02,   2.88888816e-02,\n",
       "           2.16461669e-02,   1.64491282e-11])},\n",
       " 'S02': {'entropia_media': 5.4236883995651839,\n",
       "  'entropia_std': 0.26723843892768617,\n",
       "  'informacion_mutua_media': 0.0093700177010345945,\n",
       "  'informacion_mutua_std': 0.0,\n",
       "  'potencias_medias': array([  1.00787484e-09,   1.46556461e-10,   6.27482613e-11,\n",
       "           1.88169795e-11,   1.51961834e-20]),\n",
       "  'potencias_medias_norm': array([  8.15435000e-01,   1.18573520e-01,   5.07673435e-02,\n",
       "           1.52241360e-02,   1.22946811e-11]),\n",
       "  'potencias_std': array([  8.83108713e-10,   8.56909828e-11,   4.92169320e-11,\n",
       "           1.49704790e-11,   2.10610804e-20]),\n",
       "  'potencias_std_norm': array([  8.54907779e-01,   8.29545522e-02,   4.76452530e-02,\n",
       "           1.44924162e-02,   2.03885221e-11])},\n",
       " 'S03': {'entropia_media': 5.3342424029122029,\n",
       "  'entropia_std': 0.4010008178593209,\n",
       "  'informacion_mutua_media': 0.0044742255901109975,\n",
       "  'informacion_mutua_std': 0.0,\n",
       "  'potencias_medias': array([  1.08176061e-09,   1.01611829e-10,   3.20208770e-11,\n",
       "           1.06727920e-11,   1.43967675e-20]),\n",
       "  'potencias_medias_norm': array([  8.82302025e-01,   8.28763052e-02,   2.61167622e-02,\n",
       "           8.70490744e-03,   1.17422441e-11]),\n",
       "  'potencias_std': array([  1.32518927e-09,   6.09518850e-11,   1.94971060e-11,\n",
       "           1.27719043e-11,   1.83151724e-20]),\n",
       "  'potencias_std_norm': array([  9.34277900e-01,   4.29719741e-02,   1.37457461e-02,\n",
       "           9.00438008e-03,   1.29124655e-11])},\n",
       " 'S04': {'entropia_media': 5.684659925676554,\n",
       "  'entropia_std': 0.25199575385762352,\n",
       "  'informacion_mutua_media': 0.0052570313322338495,\n",
       "  'informacion_mutua_std': 0.0,\n",
       "  'potencias_medias': array([  1.54926507e-09,   2.50958981e-10,   6.40066963e-11,\n",
       "           2.46299593e-11,   2.14730256e-20]),\n",
       "  'potencias_medias_norm': array([  8.20211392e-01,   1.32862620e-01,   3.38864037e-02,\n",
       "           1.30395848e-02,   1.13682420e-11]),\n",
       "  'potencias_std': array([  1.50595142e-09,   1.62040953e-10,   3.71148414e-11,\n",
       "           1.45034773e-11,   2.40466190e-20]),\n",
       "  'potencias_std_norm': array([  8.75751370e-01,   9.42311850e-02,   2.15832814e-02,\n",
       "           8.43416328e-03,   1.39837575e-11])},\n",
       " 'S05': {'entropia_media': 5.3277386011462005,\n",
       "  'entropia_std': 0.29588064947144882,\n",
       "  'informacion_mutua_media': 0.0053652154279706351,\n",
       "  'informacion_mutua_std': 0.0,\n",
       "  'potencias_medias': array([  9.44197519e-10,   1.01248032e-10,   3.34849701e-11,\n",
       "           7.95956092e-12,   1.12009891e-20]),\n",
       "  'potencias_medias_norm': array([  8.68714817e-01,   9.31538835e-02,   3.08080557e-02,\n",
       "           7.32324368e-03,   1.03055399e-11]),\n",
       "  'potencias_std': array([  8.17750657e-10,   6.79405730e-11,   1.77914476e-11,\n",
       "           5.07661426e-12,   1.06742243e-20]),\n",
       "  'potencias_std_norm': array([  9.00052054e-01,   7.47783591e-02,   1.95820435e-02,\n",
       "           5.58754316e-03,   1.17485170e-11])},\n",
       " 'S06': {'entropia_media': 5.2298239182218564,\n",
       "  'entropia_std': 0.28946562148638794,\n",
       "  'informacion_mutua_media': 0.0042639486026206305,\n",
       "  'informacion_mutua_std': 0.0,\n",
       "  'potencias_medias': array([  6.35980707e-10,   1.47774674e-10,   6.08521394e-11,\n",
       "           2.24448813e-11,   1.23967792e-20]),\n",
       "  'potencias_medias_norm': array([  7.33497428e-01,   1.70433383e-01,   7.01827701e-02,\n",
       "           2.58864184e-02,   1.42976125e-11]),\n",
       "  'potencias_std': array([  5.58987679e-10,   1.20204385e-10,   4.88077244e-11,\n",
       "           2.80471947e-11,   1.46823553e-20]),\n",
       "  'potencias_std_norm': array([  7.39355743e-01,   1.58990629e-01,   6.45564699e-02,\n",
       "           3.70971584e-02,   1.94198980e-11])},\n",
       " 'S07': {'entropia_media': 5.3542970787573925,\n",
       "  'entropia_std': 0.29349959338486098,\n",
       "  'informacion_mutua_media': 0.0046639676906060469,\n",
       "  'informacion_mutua_std': 0.0,\n",
       "  'potencias_medias': array([  8.09146005e-10,   2.23398612e-10,   5.95114506e-11,\n",
       "           2.77720165e-11,   1.66008594e-20]),\n",
       "  'potencias_medias_norm': array([  7.22562701e-01,   1.99493668e-01,   5.31433811e-02,\n",
       "           2.48002500e-02,   1.48244714e-11]),\n",
       "  'potencias_std': array([  7.79224219e-10,   1.30678349e-10,   3.38750815e-11,\n",
       "           2.63771649e-11,   1.75452684e-20]),\n",
       "  'potencias_std_norm': array([  8.03195745e-01,   1.34698449e-01,   3.49171916e-02,\n",
       "           2.71886142e-02,   1.80850191e-11])},\n",
       " 'S08': {'entropia_media': 5.5217112098135548,\n",
       "  'entropia_std': 0.21754484339655394,\n",
       "  'informacion_mutua_media': 0.0043391625601315979,\n",
       "  'informacion_mutua_std': 0.0,\n",
       "  'potencias_medias': array([  5.35907767e-10,   3.94759197e-10,   2.81260379e-10,\n",
       "           1.33640580e-10,   3.77371339e-20]),\n",
       "  'potencias_medias_norm': array([  3.98276265e-01,   2.93377384e-01,   2.09027262e-01,\n",
       "           9.93190887e-02,   2.80455065e-11]),\n",
       "  'potencias_std': array([  5.47723095e-10,   2.31704718e-10,   1.84657283e-10,\n",
       "           9.22265877e-11,   3.12620066e-20]),\n",
       "  'potencias_std_norm': array([  5.18524128e-01,   2.19352604e-01,   1.74813254e-01,\n",
       "           8.73100138e-02,   2.95954377e-11])},\n",
       " 'S09': {'entropia_media': 6.1711007500971995,\n",
       "  'entropia_std': 0.27147955230041559,\n",
       "  'informacion_mutua_media': 0.0068160663473571508,\n",
       "  'informacion_mutua_std': 0.0,\n",
       "  'potencias_medias': array([  6.67680573e-09,   1.33705999e-09,   4.34147395e-10,\n",
       "           5.16113849e-10,   2.36292265e-19]),\n",
       "  'potencias_medias_norm': array([  7.44836141e-01,   1.49156744e-01,   4.84316428e-02,\n",
       "           5.75754730e-02,   2.63597634e-11]),\n",
       "  'potencias_std': array([  1.69828422e-08,   1.41574687e-09,   3.68745226e-10,\n",
       "           2.05571757e-10,   2.33924520e-19]),\n",
       "  'potencias_std_norm': array([  8.95110224e-01,   7.46194004e-02,   1.94353583e-02,\n",
       "           1.08350169e-02,   1.23293985e-11])},\n",
       " 'S10': {'entropia_media': 5.2469756333753423,\n",
       "  'entropia_std': 0.44149267835915423,\n",
       "  'informacion_mutua_media': 0.0043736617227228321,\n",
       "  'informacion_mutua_std': 0.0,\n",
       "  'potencias_medias': array([  1.22621707e-09,   7.65482944e-11,   6.63457654e-11,\n",
       "           4.07260410e-11,   2.45494568e-20]),\n",
       "  'potencias_medias_norm': array([  8.69757937e-01,   5.42958407e-02,   4.70591689e-02,\n",
       "           2.88870530e-02,   1.74129732e-11]),\n",
       "  'potencias_std': array([  2.53180895e-09,   1.16508476e-10,   2.28041861e-10,\n",
       "           1.18717031e-10,   7.48866780e-20]),\n",
       "  'potencias_std_norm': array([  8.45323685e-01,   3.89000024e-02,   7.61389149e-02,\n",
       "           3.96373977e-02,   2.50032620e-11])}}"
      ]
     },
     "execution_count": 10,
     "metadata": {},
     "output_type": "execute_result"
    }
   ],
   "source": [
    "get_data_for_electrodes([0])"
   ]
  },
  {
   "cell_type": "code",
   "execution_count": 11,
   "metadata": {
    "collapsed": true
   },
   "outputs": [],
   "source": [
    "def get_target_vector(features_per_subject):\n",
    "    return [0 if 'P' in subject else 1 for subject in features_per_subject.keys()]\n",
    "\n",
    "def draw_roc_curve(y_true, y_score, title):\n",
    "    fpr, tpr, thresholds = roc_curve(y_true, y_score)\n",
    "    roc_auc = auc(fpr, tpr)\n",
    "        \n",
    "    plt.figure()\n",
    "    plt.plot(fpr, tpr, color='darkorange',\n",
    "             lw=2, label='ROC curve (area = %0.2f)' % roc_auc)\n",
    "    plt.plot([0, 1], [0, 1], color='navy', lw=2, linestyle='--')\n",
    "    plt.xlim([0.0, 1.0])\n",
    "    plt.ylim([0.0, 1.05])\n",
    "    plt.xlabel('False Positive Rate')\n",
    "    plt.ylabel('True Positive Rate')\n",
    "    plt.title(title)\n",
    "    plt.legend(loc=\"lower right\")\n",
    "    plt.show()\n",
    "\n",
    "# P == 0, S == 1\n",
    "def draw_roc_curve_for_features(features_per_subject, attr, banda=None):\n",
    "    y_true = get_target_vector(features_per_subject)\n",
    "    y_score = [feature[attr] for feature in features_per_subject.values()]\n",
    "    \n",
    "    if banda is not None:\n",
    "        y_score = [v[banda] for v in y_score]\n",
    "        title = \"ROC Curve for {} (banda {})\".format(attr, banda)\n",
    "    else:\n",
    "        title = \"ROC Curve for {}\".format(attr)\n",
    "\n",
    "    draw_roc_curve(y_true, y_score, title)\n",
    "\n",
    "\n",
    "def draw_roc_curve_for_all_features(features_per_subject):\n",
    "    for feature_name, values in features_per_subject['P01'].items():\n",
    "        if isinstance(values, float):\n",
    "            draw_roc_curve_for_features(features_per_subject, feature_name)\n",
    "        else:\n",
    "            for index, _ in enumerate(values):\n",
    "                draw_roc_curve_for_features(features_per_subject, feature_name, index)"
   ]
  },
  {
   "cell_type": "code",
   "execution_count": null,
   "metadata": {
    "collapsed": true
   },
   "outputs": [],
   "source": [
    "def draw_roc_curve_for_electrodes(electrodos):\n",
    "    features_per_subject = get_data_for_electrodes(electrodos)\n",
    "    draw_roc_curve_for_all_features(features_per_subject)"
   ]
  },
  {
   "cell_type": "markdown",
   "metadata": {},
   "source": [
    "Arbitrariamente tomamos el electrodo 0 y graficamos las curvas ROC para todos los features pedidos"
   ]
  },
  {
   "cell_type": "code",
   "execution_count": null,
   "metadata": {},
   "outputs": [],
   "source": [
    "draw_roc_curve_for_electrodes([0])"
   ]
  },
  {
   "cell_type": "markdown",
   "metadata": {},
   "source": [
    "Para la curva ROC, la banda Theta normalizada da un area de 0.99. Pareceria ser un muy buen indicador para el clasificador, por lo cual probamos para los electrodos del entorno con el objetivo de descartar errores de medicion."
   ]
  },
  {
   "cell_type": "code",
   "execution_count": null,
   "metadata": {},
   "outputs": [],
   "source": [
    "electrodos = [229, 225, 224, 220, 219, 221]\n",
    "get_data_for_electrodes(electrodos)\n",
    "draw_roc_curve_for_electrodes(electrodos)"
   ]
  },
  {
   "cell_type": "markdown",
   "metadata": {},
   "source": [
    "Probamos con la misma zona en el hemisferio opuesto"
   ]
  },
  {
   "cell_type": "code",
   "execution_count": null,
   "metadata": {
    "collapsed": true
   },
   "outputs": [],
   "source": [
    "electrodos = [252, 251, 247, 60, 54, 47]\n",
    "get_data_for_electrodes(electrodos)\n",
    "draw_roc_curve_for_electrodes(electrodos)"
   ]
  },
  {
   "cell_type": "markdown",
   "metadata": {},
   "source": [
    "Probamos con una zona de la corteza frontal"
   ]
  },
  {
   "cell_type": "code",
   "execution_count": null,
   "metadata": {
    "collapsed": true,
    "scrolled": true
   },
   "outputs": [],
   "source": [
    "electrodos = [135, 136, 146, 147, 145, 155]\n",
    "get_data_for_electrodes(electrodos)\n",
    "draw_roc_curve_for_electrodes(electrodos)"
   ]
  },
  {
   "cell_type": "markdown",
   "metadata": {},
   "source": [
    "Vemos que, si bien hay diferencias y el area bajo la curva ROC del feature \"potencia media\" de la banda Theta normalizada es menor, sigue siendo un buen clasificador.\n",
    "\n",
    "## b) Utilizando una técnica de cross validación, estimar la performance de un classificador Logistic Regression para cada feature y graficar la curva ROC correspondiente. ¿Cuál es su conclución respecto a los resultados obtenidos en el punto anterior?"
   ]
  },
  {
   "cell_type": "markdown",
   "metadata": {},
   "source": [
    "Decidimos utilizar todo el dataset como entrenamiento y, subsecuentemente, testear sobre el mismo al final. Gracias a la elección de la clase LogisticRegressionCV y su utilización de KStratifiedFold, nunca utilizamos todo el dataset al mismo tiempo (sino que internamente lo divide en folds).\n",
    "\n",
    "Nos quedamos con aquellos electrodos que originalmente mostraron ser los mejores indicadores, esto es, aquellos alrededor del electrodo 1"
   ]
  },
  {
   "cell_type": "code",
   "execution_count": null,
   "metadata": {
    "collapsed": true,
    "scrolled": true
   },
   "outputs": [],
   "source": [
    "electrodos = [229, 225, 224, 220, 219, 221]\n",
    "\n",
    "def get_classifier_matrix(electrodos):\n",
    "    features_per_subject = get_data_for_electrodes(electrodos)\n",
    "    target_vector = get_target_vector(features_per_subject)\n",
    "    classifier_matrix = []\n",
    "\n",
    "    for subject, feature_dict in features_per_subject.items():\n",
    "        valores, feature_names = [], []\n",
    "        for feature_name, values in feature_dict.items():\n",
    "            feature_names.append(feature_name)\n",
    "            if isinstance(values, float):\n",
    "                valores.append(values)\n",
    "            else:\n",
    "                valores.extend(values)\n",
    "                \n",
    "        classifier_matrix.append(valores)\n",
    "                \n",
    "    print(\"Orden de los features:\", feature_names)\n",
    "    return np.array(classifier_matrix), target_vector\n",
    "\n",
    "classifier_matrix, target_vector = get_classifier_matrix(electrodos)\n",
    "\n",
    "cant_sujetos, cant_features = classifier_matrix.shape\n",
    "\n",
    "for i in range(cant_features):\n",
    "    datos_por_sujeto = classifier_matrix[:, i].reshape(-1, 1)\n",
    "    clasificador_lr = LogisticRegressionCV()\n",
    "    clasificador_lr.fit(datos_por_sujeto, target_vector)\n",
    "     # Nos quedamos con la primera columna de predict_proba ya que al ser dos clases son simétricas\n",
    "    y_score = clasificador_lr.predict_proba(datos_por_sujeto)[:, 0]\n",
    "    draw_roc_curve(target_vector, y_score, title=str(i))"
   ]
  },
  {
   "cell_type": "markdown",
   "metadata": {},
   "source": [
    "Podemos observar que ciertas features que daban una curva ROC muy mala en el punto A) resultan malos clasificadores, como por ejemplo las potencias no normalizadas por banda. En cambio, features con una curva ROC muy lejana al 0.5 en el punto A) resultaron buenos clasificadores, con el mejor clasificador correspondiéndose a la mejor curva ROC obtenida previamente, la potencia normalizada de la banda Theta. \n",
    "\n",
    "Como conclusión final, existe una clara correlación entre los resultados obtenidos en el punto anterior con lo obtenido en este punto. Las potencias normalizadas son mejores clasificadores que las no normalizadas. Para las potencias, las medias resultan un mejor indicador para buenos clasificadores, comparado con la desviación estándar.\n",
    "En cambio, el mejor clasificador para la entropía está asociado a su desviación estándar, por lo que no parecería haber una inclinación permanente por la media o la desviación a nivel general en primera instancia."
   ]
  },
  {
   "cell_type": "markdown",
   "metadata": {},
   "source": [
    "# 2.2 Análisis Multivariado"
   ]
  },
  {
   "cell_type": "markdown",
   "metadata": {},
   "source": [
    "## a) Utilizar todos los features y entrenar un clasificador basado en Support Vector Machine. Computar la curva roc y graficarla. No olvidar reportar el area bajo la curva."
   ]
  },
  {
   "cell_type": "markdown",
   "metadata": {},
   "source": [
    "Entrenamos sobre 18 sujetos y testeamos sobre 2 (los que no usamos) para obtener el score."
   ]
  },
  {
   "cell_type": "code",
   "execution_count": null,
   "metadata": {
    "collapsed": true
   },
   "outputs": [],
   "source": [
    "classifier_matrix, target_vector = get_classifier_matrix(electrodos)\n",
    "\n",
    "X_train, X_test, y_train, y_test = train_test_split(\n",
    "    classifier_matrix, target_vector, test_size=0.2, random_state=42)\n",
    "\n",
    "clasificador_svc = SVC(probability=True, random_state=42)\n",
    "clasificador_svc.fit(X_train, y_train)\n",
    "# Nos quedamos con la primera columna de predict_proba ya que al ser dos clases son simétricas\n",
    "y_score = clasificador_svc.predict_proba(X_train)[:, 0]\n",
    "draw_roc_curve(y_train, y_score, title=\"Curva ROC para Clasificador SVM\")\n",
    "print('Score para sujetos de test:', clasificador_svc.score(X_test, y_test))"
   ]
  },
  {
   "cell_type": "markdown",
   "metadata": {},
   "source": [
    "# b) Repetir el punto a), pero utilizando un pipeline de Scikit-Learn con los siguientes 3 pasos: Standard Scaler, Feature Selection utilizando solo el 10%, SVC."
   ]
  },
  {
   "cell_type": "code",
   "execution_count": null,
   "metadata": {
    "collapsed": true
   },
   "outputs": [],
   "source": [
    "def do_pipeline(percentile):\n",
    "    classifier_matrix, target_vector = get_classifier_matrix(electrodos)\n",
    "\n",
    "    X_train, X_test, y_train, y_test = train_test_split(\n",
    "        classifier_matrix, target_vector, test_size=0.2, random_state=42)\n",
    "\n",
    "    pipeline = make_pipeline(\n",
    "        StandardScaler(), \n",
    "        SelectPercentile(percentile=percentile),\n",
    "        SVC(probability=True, random_state=42)\n",
    "    )\n",
    "    pipeline.fit(X_train, y_train)\n",
    "    # Nos quedamos con la primera columna de predict_proba ya que al ser dos clases son simétricas\n",
    "    y_score = pipeline.predict_proba(X_train)[:, 0]\n",
    "    draw_roc_curve(y_train, y_score, title=\"Curva ROC para Clasificador SVM c/ pipeline\")\n",
    "    print('Score para sujetos de test:', pipeline.score(X_test, y_test))"
   ]
  },
  {
   "cell_type": "code",
   "execution_count": null,
   "metadata": {
    "collapsed": true
   },
   "outputs": [],
   "source": [
    "do_pipeline(10)"
   ]
  },
  {
   "cell_type": "code",
   "execution_count": null,
   "metadata": {
    "collapsed": true
   },
   "outputs": [],
   "source": [
    "do_pipeline(20)"
   ]
  },
  {
   "cell_type": "code",
   "execution_count": null,
   "metadata": {
    "collapsed": true
   },
   "outputs": [],
   "source": [
    "do_pipeline(35)"
   ]
  }
 ],
 "metadata": {
  "kernelspec": {
   "display_name": "Python 3",
   "language": "python",
   "name": "python3"
  },
  "language_info": {
   "codemirror_mode": {
    "name": "ipython",
    "version": 3
   },
   "file_extension": ".py",
   "mimetype": "text/x-python",
   "name": "python",
   "nbconvert_exporter": "python",
   "pygments_lexer": "ipython3",
   "version": "3.6.2"
  }
 },
 "nbformat": 4,
 "nbformat_minor": 2
}
